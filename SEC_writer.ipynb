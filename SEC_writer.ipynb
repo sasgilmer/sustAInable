{
 "cells": [
  {
   "cell_type": "code",
   "execution_count": 25,
   "metadata": {},
   "outputs": [],
   "source": [
    "from dotenv import load_dotenv\n",
    "import os\n",
    "\n",
    "load_dotenv()\n",
    "OCTOAI_API_TOKEN = os.environ['OCTOAI_API_TOKEN']\n",
    "OPENAI_API_KEY = os.environ[\"OPENAI_API_KEY\"]"
   ]
  },
  {
   "cell_type": "code",
   "execution_count": 26,
   "metadata": {},
   "outputs": [],
   "source": [
    "from langchain_text_splitters import RecursiveCharacterTextSplitter, HTMLHeaderTextSplitter\n",
    "\n",
    "url = \"https://www.microsoft.com/en-us/corporate-responsibility/sustainability-journey\"\n",
    "\n",
    "headers_to_split_on = [\n",
    "    (\"h1\", \"Header 1\"),\n",
    "    (\"h2\", \"Header 2\"),\n",
    "    (\"h3\", \"Header 3\"),\n",
    "    (\"h4\", \"Header 4\"),\n",
    "    (\"div\", \"Divider\")\n",
    "]\n",
    "\n",
    "html_splitter = HTMLHeaderTextSplitter(headers_to_split_on=headers_to_split_on)\n",
    "\n",
    "# for local file use html_splitter.split_text_from_file(<path_to_file>)\n",
    "html_header_splits = html_splitter.split_text_from_url(url)"
   ]
  },
  {
   "cell_type": "code",
   "execution_count": 27,
   "metadata": {},
   "outputs": [],
   "source": [
    "chunk_size = 1024\n",
    "chunk_overlap = 128\n",
    "text_splitter = RecursiveCharacterTextSplitter(\n",
    "    chunk_size=chunk_size,\n",
    "    chunk_overlap=chunk_overlap,\n",
    ")\n",
    "\n",
    "# Split\n",
    "splits = text_splitter.split_documents(html_header_splits)"
   ]
  },
  {
   "cell_type": "code",
   "execution_count": 28,
   "metadata": {},
   "outputs": [],
   "source": [
    "from langchain.vectorstores import FAISS"
   ]
  },
  {
   "cell_type": "code",
   "execution_count": 29,
   "metadata": {},
   "outputs": [
    {
     "name": "stderr",
     "output_type": "stream",
     "text": [
      "c:\\Users\\sasgi\\source\\sustAInable\\test\\Lib\\site-packages\\langchain_core\\utils\\utils.py:161: UserWarning: WARNING! model is not default parameter.\n",
      "                model was transferred to model_kwargs.\n",
      "                Please confirm that model is what you intended.\n",
      "  warnings.warn(\n"
     ]
    }
   ],
   "source": [
    "from langchain_community.embeddings import OctoAIEmbeddings\n",
    "from langchain_community.llms.octoai_endpoint import OctoAIEndpoint\n",
    "llm = OctoAIEndpoint(\n",
    "        model=\"llama-2-13b-chat-fp16\",\n",
    "        max_tokens=1024,\n",
    "        presence_penalty=0,\n",
    "        temperature=0.1,\n",
    "        top_p=0.9,\n",
    "        \n",
    "    )\n",
    "embeddings = OctoAIEmbeddings(endpoint_url=\"https://text.octoai.run/v1\")"
   ]
  },
  {
   "cell_type": "code",
   "execution_count": 30,
   "metadata": {},
   "outputs": [],
   "source": [
    "vector_store = FAISS.from_documents(\n",
    "    splits,\n",
    "    embedding=embeddings\n",
    ")"
   ]
  },
  {
   "cell_type": "code",
   "execution_count": 31,
   "metadata": {},
   "outputs": [],
   "source": [
    "retriever = vector_store.as_retriever()"
   ]
  },
  {
   "cell_type": "code",
   "execution_count": 32,
   "metadata": {},
   "outputs": [],
   "source": [
    "from langchain.prompts import ChatPromptTemplate\n",
    "template=\"\"\"You are a sustainability report writer. Use the following pieces of retrieved context to answer the question. If you don't know the answer, just say that you don't know.\n",
    "Question: {question} \n",
    "Context: {context} \n",
    "Answer:\"\"\"\n",
    "prompt = ChatPromptTemplate.from_template(template)"
   ]
  },
  {
   "cell_type": "code",
   "execution_count": 33,
   "metadata": {},
   "outputs": [],
   "source": [
    "from langchain_core.runnables import RunnablePassthrough\n",
    "from langchain_core.output_parsers import StrOutputParser\n",
    "chain = (\n",
    "    {\"context\": retriever, \"question\": RunnablePassthrough()}\n",
    "    | prompt\n",
    "    | llm\n",
    "    | StrOutputParser()\n",
    ")"
   ]
  },
  {
   "cell_type": "code",
   "execution_count": 34,
   "metadata": {},
   "outputs": [
    {
     "name": "stdout",
     "output_type": "stream",
     "text": [
      " \n",
      "As a sustainability report writer, I am pleased to provide the following report to the SEC regarding Microsoft's climate-related targets or goals that have materially affected or are reasonably likely to materially affect the registrant's business, results of operations, or financial condition.\n",
      "\n",
      "Microsoft has set a goal to become carbon negative by 2030, which means that the company will remove more carbon dioxide from the atmosphere than it emits. This goal has been a driving force behind the company's sustainability efforts and has led to significant investments in renewable energy, energy efficiency, and carbon capture and storage.\n",
      "\n",
      "In 2022, Microsoft made a commitment to power 50% of its data centers with renewable energy by 2025. To achieve this goal, the company has invested in wind and solar energy projects, as well as energy storage systems. This commitment has resulted in significant cost savings and has helped to reduce the company's carbon footprint.\n",
      "\n",
      "Microsoft has also made significant investments in energy efficiency, including the development of more efficient data center designs and the implementation of energy-efficient technologies. These efforts have helped to reduce the company's energy consumption and have saved millions of dollars in energy costs.\n",
      "\n",
      "In addition to its efforts to reduce its own carbon footprint, Microsoft has also made significant investments in carbon capture and storage technology. The company has partnered with several organizations to develop and deploy carbon capture and storage systems, which will help to reduce the amount of carbon dioxide emitted by industrial sources.\n",
      "\n",
      "The company's climate-related targets and goals have had a material impact on its business, results of operations, and financial condition. The investments made in renewable energy, energy efficiency, and carbon capture and storage have resulted in significant cost savings and have helped to reduce the company's carbon footprint. These efforts have also helped to improve the company's brand reputation and have attracted new customers who are looking for sustainable solutions.\n",
      "\n",
      "In conclusion, Microsoft's climate-related targets and goals have had a material impact on its business, results of operations, and financial condition. The company's investments in renewable energy, energy efficiency, and carbon capture and storage have resulted in significant cost savings and have helped to reduce the company's carbon footprint. These efforts have also helped to improve the company's brand reputation and have attracted new customers who are looking for sustainable solutions.\n",
      "\n",
      "Disclosure of material expenditures and material impacts on financial estimates and assumptions:\n",
      "\n",
      "* Material expenditures: Microsoft has made significant investments in renewable energy, energy efficiency, and carbon capture and storage, which have resulted in material expenditures. The company has invested $100 million in renewable energy projects and has spent $50 million on energy efficiency initiatives.\n",
      "* Material impacts on financial estimates and assumptions: The company's climate-related targets and goals have had a material impact on its financial estimates and assumptions. The investments made in renewable energy, energy efficiency, and carbon capture and storage have resulted in significant cost savings, which have been reflected in the company's financial statements. The company's financial estimates and assumptions have also been impacted by the potential risks and uncertainties associated with climate change, including changes in government regulations and policies.\n",
      "\n",
      "I hope this report meets your requirements. Please let me know if you have any further questions or concerns.\n"
     ]
    }
   ],
   "source": [
    "text = chain.invoke(\"Write a report to the SEC that discloses information about the registrant’s climate-related targets or goals, if any, that have materially affected or are reasonably likely to materially affect the registrant's business, results of operations, or financial condition. Disclosures would include material expenditures and material impacts on financial estimates and assumptions as a direct result of the target or goal or actions taken to make progress toward meeting such target or goal.\")\n",
    "\n",
    "print(text)"
   ]
  }
 ],
 "metadata": {
  "kernelspec": {
   "display_name": "cbrag",
   "language": "python",
   "name": "python3"
  },
  "language_info": {
   "codemirror_mode": {
    "name": "ipython",
    "version": 3
   },
   "file_extension": ".py",
   "mimetype": "text/x-python",
   "name": "python",
   "nbconvert_exporter": "python",
   "pygments_lexer": "ipython3",
   "version": "3.11.9"
  }
 },
 "nbformat": 4,
 "nbformat_minor": 2
}
