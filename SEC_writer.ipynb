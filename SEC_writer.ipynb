{
 "cells": [
  {
   "cell_type": "code",
   "execution_count": 22,
   "metadata": {},
   "outputs": [],
   "source": [
    "! pip install -q langchain-openai langchain langchain-text-splitters lxml octoai-sdk langchain-community faiss-cpu tiktoken transformers\n",
    "# ! zsh standalone_embed.sh start"
   ]
  },
  {
   "cell_type": "code",
   "execution_count": 23,
   "metadata": {},
   "outputs": [],
   "source": [
    "from dotenv import load_dotenv\n",
    "import os\n",
    "\n",
    "load_dotenv()\n",
    "OCTOAI_API_TOKEN = os.environ['OCTOAI_API_TOKEN']\n",
    "OPENAI_API_KEY = os.environ[\"OPENAI_API_KEY\"]"
   ]
  },
  {
   "cell_type": "code",
   "execution_count": 24,
   "metadata": {},
   "outputs": [],
   "source": [
    "from langchain_text_splitters import RecursiveCharacterTextSplitter, HTMLHeaderTextSplitter\n",
    "\n",
    "url = \"https://www.microsoft.com/en-us/corporate-responsibility/sustainability-journey\"\n",
    "\n",
    "headers_to_split_on = [\n",
    "    (\"h1\", \"Header 1\"),\n",
    "    (\"h2\", \"Header 2\"),\n",
    "    (\"h3\", \"Header 3\"),\n",
    "    (\"h4\", \"Header 4\"),\n",
    "    (\"div\", \"Divider\")\n",
    "]\n",
    "\n",
    "html_splitter = HTMLHeaderTextSplitter(headers_to_split_on=headers_to_split_on)\n",
    "\n",
    "# for local file use html_splitter.split_text_from_file(<path_to_file>)\n",
    "html_header_splits = html_splitter.split_text_from_url(url)"
   ]
  },
  {
   "cell_type": "code",
   "execution_count": 25,
   "metadata": {},
   "outputs": [],
   "source": [
    "chunk_size = 1024\n",
    "chunk_overlap = 128\n",
    "text_splitter = RecursiveCharacterTextSplitter(\n",
    "    chunk_size=chunk_size,\n",
    "    chunk_overlap=chunk_overlap,\n",
    ")\n",
    "\n",
    "# Split\n",
    "splits = text_splitter.split_documents(html_header_splits)"
   ]
  },
  {
   "cell_type": "code",
   "execution_count": 26,
   "metadata": {},
   "outputs": [],
   "source": [
    "from langchain.vectorstores import FAISS"
   ]
  },
  {
   "cell_type": "code",
   "execution_count": 27,
   "metadata": {},
   "outputs": [
    {
     "name": "stderr",
     "output_type": "stream",
     "text": [
      "c:\\Users\\sasgi\\source\\sustAInable\\test\\Lib\\site-packages\\langchain_core\\utils\\utils.py:161: UserWarning: WARNING! model is not default parameter.\n",
      "                model was transferred to model_kwargs.\n",
      "                Please confirm that model is what you intended.\n",
      "  warnings.warn(\n"
     ]
    }
   ],
   "source": [
    "from langchain_community.embeddings import OctoAIEmbeddings\n",
    "from langchain_community.llms.octoai_endpoint import OctoAIEndpoint\n",
    "llm = OctoAIEndpoint(\n",
    "        model=\"llama-2-13b-chat-fp16\",\n",
    "        max_tokens=1024,\n",
    "        presence_penalty=0,\n",
    "        temperature=0.1,\n",
    "        top_p=0.9,\n",
    "        \n",
    "    )\n",
    "embeddings = OctoAIEmbeddings(endpoint_url=\"https://text.octoai.run/v1\")"
   ]
  },
  {
   "cell_type": "code",
   "execution_count": 28,
   "metadata": {},
   "outputs": [],
   "source": [
    "vector_store = FAISS.from_documents(\n",
    "    splits,\n",
    "    embedding=embeddings\n",
    ")"
   ]
  },
  {
   "cell_type": "code",
   "execution_count": 29,
   "metadata": {},
   "outputs": [],
   "source": [
    "retriever = vector_store.as_retriever()"
   ]
  },
  {
   "cell_type": "code",
   "execution_count": 30,
   "metadata": {},
   "outputs": [],
   "source": [
    "from langchain.prompts import ChatPromptTemplate\n",
    "template=\"\"\"You are a sustainability report writer. Use the following pieces of retrieved context to answer the question. If you don't know the answer, just say that you don't know.\n",
    "Question: {question} \n",
    "Context: {context} \n",
    "Answer:\"\"\"\n",
    "prompt = ChatPromptTemplate.from_template(template)"
   ]
  },
  {
   "cell_type": "code",
   "execution_count": 31,
   "metadata": {},
   "outputs": [],
   "source": [
    "from langchain_core.runnables import RunnablePassthrough\n",
    "from langchain_core.output_parsers import StrOutputParser\n",
    "chain = (\n",
    "    {\"context\": retriever, \"question\": RunnablePassthrough()}\n",
    "    | prompt\n",
    "    | llm\n",
    "    | StrOutputParser()\n",
    ")"
   ]
  },
  {
   "cell_type": "code",
   "execution_count": 32,
   "metadata": {},
   "outputs": [
    {
     "data": {
      "text/plain": [
       "\" \\n\\nAs a sustainability report writer, I am pleased to provide the following report to the SEC regarding Microsoft's climate-related targets or goals that have materially affected or are reasonably likely to materially affect the registrant's business, results of operations, or financial condition.\\n\\nMicrosoft has set several climate-related targets and goals, which have had a significant impact on the company's business, results of operations, and financial condition. One of the most notable targets is the company's commitment to become carbon negative by 2030. This goal has led to significant investments in renewable energy, energy efficiency, and carbon offsetting.\\n\\nIn 2020, Microsoft announced that it would invest $1 billion in a clean energy fund to support the development of renewable energy projects around the world. This investment has helped to reduce the company's reliance on fossil fuels and has also created new business opportunities for Microsoft.\\n\\nIn addition to its clean energy fund, Microsoft has also made significant investments in energy efficiency. The company has implemented a range of energy-efficient technologies and practices across its data centers and offices, which has helped to reduce its energy consumption and carbon emissions.\\n\\nMicrosoft has also set a goal to power 50% of its data centers with renewable energy by 2025. To achieve this goal, the company has entered into power purchase agreements (PPAs) with renewable energy developers to purchase clean energy from wind and solar farms.\\n\\nThe company's climate-related targets and goals have also had a significant impact on its financial estimates and assumptions. For example, Microsoft has had to adjust its capital expenditure budget to reflect the increased costs associated with investing in renewable energy and energy efficiency.\\n\\nIn addition, the company has had to adjust its operating expenses to reflect the increased costs associated with carbon offsetting and other climate-related initiatives.\\n\\nOverall, Microsoft's climate-related targets and goals have had a significant impact on the company's business, results of operations, and financial condition. The company's commitment to becoming carbon negative by 2030 has driven significant investments in renewable energy, energy efficiency, and carbon offsetting, and has also created new business opportunities for Microsoft.\\n\\nDisclosure of material expenditures:\\n\\n* $1 billion investment in clean energy fund\\n* Significant investments in energy efficiency technologies and practices\\n* Power purchase agreements with renewable energy developers to purchase clean energy\\n\\nDisclosure of material impacts on financial estimates and assumptions:\\n\\n* Adjustments to capital expenditure budget to reflect increased costs associated with investing in renewable energy and energy efficiency\\n* Adjustments to operating expenses to reflect increased costs associated with carbon offsetting and other climate-related initiatives\\n\\nI hope this report meets your requirements. Please let me know if you have any further questions or concerns. \\n\\nNote: The above report is based on the provided context and may not reflect the actual climate-related targets or goals of Microsoft. The report is intended to provide a general example of the type of information that may be disclosed in a sustainability report. \\n\\nDisclosure: The report writer is not affiliated with Microsoft and does not have access to the company's financial information or internal documents. The report is based solely on publicly available information and should not be considered as a substitute for actual financial information or expert analysis. \\n\\nDisclaimer: The report is intended to provide general information and should not be considered as a substitute for actual financial information or expert analysis. The report writer is not responsible for any errors or omissions in the report. \\n\\nPlease note that the report is based on the provided context and may not reflect the actual climate-related targets or goals of Microsoft. The report is intended to provide a general example of the type of information that may be disclosed in a sustainability report. \\n\\nIf you have any further questions or concerns, please do not hesitate to contact me. \\n\\nThank you for your attention to this matter. \\n\\nSincerely, \\n[Your Name] \\nSustainability Report Writer. \\n\\nPlease note that the report is based on the provided context and may not reflect the actual climate-related targets or goals of Microsoft. The report is intended to provide a general example of the type of information that may be disclosed in a sustainability report. \\n\\nDisclosure: The report writer is not affiliated with Microsoft and does not have access to the company's financial information or internal documents. The report is based solely on publicly available information and should not be considered as a substitute for actual financial information or expert analysis. \\n\\nDisclaimer: The report is intended to provide general information and should not be considered as a substitute for actual financial information or expert analysis. The report writer is not responsible for any errors or omissions in the report. \\n\\nPlease note that the report is based on the provided context and may not reflect the actual climate-related targets or goals of Microsoft. The report is intended to provide a general example of the type of information that may be disclosed in a sustainability report. \\n\\nIf you have any further questions or concerns, please do not hesitate to contact me. \\n\\nThank you for your attention to this matter. \\n\\nSincerely, \\n[Your Name] \\nSustainability Report Writer. \\n\\nPlease note that the report is based on the provided context and may not reflect the actual climate-related targets or goals of\""
      ]
     },
     "execution_count": 32,
     "metadata": {},
     "output_type": "execute_result"
    }
   ],
   "source": [
    "chain.invoke(\"Write a report to the SEC that discloses information about the registrant’s climate-related targets or goals, if any, that have materially affected or are reasonably likely to materially affect the registrant's business, results of operations, or financial condition. Disclosures would include material expenditures and material impacts on financial estimates and assumptions as a direct result of the target or goal or actions taken to make progress toward meeting such target or goal.\")"
   ]
  }
 ],
 "metadata": {
  "kernelspec": {
   "display_name": "cbrag",
   "language": "python",
   "name": "python3"
  },
  "language_info": {
   "codemirror_mode": {
    "name": "ipython",
    "version": 3
   },
   "file_extension": ".py",
   "mimetype": "text/x-python",
   "name": "python",
   "nbconvert_exporter": "python",
   "pygments_lexer": "ipython3",
   "version": "3.11.9"
  }
 },
 "nbformat": 4,
 "nbformat_minor": 2
}
