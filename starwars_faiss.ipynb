{
 "cells": [
  {
   "cell_type": "code",
   "execution_count": 6,
   "metadata": {},
   "outputs": [],
   "source": [
    "# ! pip install -q langchain-openai langchain langchain-text-splitters lxml octoai-sdk langchain-community faiss-cpu tiktoken transformers\n",
    "# ! zsh standalone_embed.sh start"
   ]
  },
  {
   "cell_type": "code",
   "execution_count": 1,
   "metadata": {},
   "outputs": [],
   "source": [
    "from dotenv import load_dotenv\n",
    "import os\n",
    "\n",
    "load_dotenv()\n",
    "OCTOAI_API_TOKEN = os.environ[\"OCTOAI_API_TOKEN\"]\n",
    "OPENAI_API_KEY = os.environ[\"OPENAI_API_KEY\"]"
   ]
  },
  {
   "cell_type": "code",
   "execution_count": 2,
   "metadata": {},
   "outputs": [],
   "source": [
    "from langchain_text_splitters import RecursiveCharacterTextSplitter, HTMLHeaderTextSplitter\n",
    "\n",
    "url = \"https://en.wikipedia.org/wiki/Star_Wars\"\n",
    "\n",
    "headers_to_split_on = [\n",
    "    (\"h1\", \"Header 1\"),\n",
    "    (\"h2\", \"Header 2\"),\n",
    "    (\"h3\", \"Header 3\"),\n",
    "    (\"h4\", \"Header 4\"),\n",
    "    (\"div\", \"Divider\")\n",
    "]\n",
    "\n",
    "html_splitter = HTMLHeaderTextSplitter(headers_to_split_on=headers_to_split_on)\n",
    "\n",
    "# for local file use html_splitter.split_text_from_file(<path_to_file>)\n",
    "html_header_splits = html_splitter.split_text_from_url(url)"
   ]
  },
  {
   "cell_type": "code",
   "execution_count": 3,
   "metadata": {},
   "outputs": [],
   "source": [
    "chunk_size = 1024\n",
    "chunk_overlap = 128\n",
    "text_splitter = RecursiveCharacterTextSplitter(\n",
    "    chunk_size=chunk_size,\n",
    "    chunk_overlap=chunk_overlap,\n",
    ")\n",
    "\n",
    "# Split\n",
    "splits = text_splitter.split_documents(html_header_splits)"
   ]
  },
  {
   "cell_type": "code",
   "execution_count": 4,
   "metadata": {},
   "outputs": [],
   "source": [
    "from langchain.vectorstores import FAISS"
   ]
  },
  {
   "cell_type": "code",
   "execution_count": 9,
   "metadata": {},
   "outputs": [
    {
     "name": "stderr",
     "output_type": "stream",
     "text": [
      "/Users/yujian/Documents/workspace/rag_cookbooks/rcbs/lib/python3.12/site-packages/langchain_core/utils/utils.py:161: UserWarning: WARNING! model is not default parameter.\n",
      "                model was transferred to model_kwargs.\n",
      "                Please confirm that model is what you intended.\n",
      "  warnings.warn(\n"
     ]
    }
   ],
   "source": [
    "from langchain_openai import OpenAIEmbeddings\n",
    "from langchain_community.llms.octoai_endpoint import OctoAIEndpoint\n",
    "llm = OctoAIEndpoint(\n",
    "        model=\"llama-2-13b-chat-fp16\",\n",
    "        max_tokens=1024,\n",
    "        presence_penalty=0,\n",
    "        temperature=0.1,\n",
    "        top_p=0.9,\n",
    "        \n",
    "    )\n",
    "embeddings = OpenAIEmbeddings()"
   ]
  },
  {
   "cell_type": "code",
   "execution_count": 10,
   "metadata": {},
   "outputs": [],
   "source": [
    "vector_store = FAISS.from_documents(\n",
    "    splits,\n",
    "    embedding=embeddings\n",
    ")"
   ]
  },
  {
   "cell_type": "code",
   "execution_count": 11,
   "metadata": {},
   "outputs": [],
   "source": [
    "retriever = vector_store.as_retriever()"
   ]
  },
  {
   "cell_type": "code",
   "execution_count": 12,
   "metadata": {},
   "outputs": [],
   "source": [
    "from langchain.prompts import ChatPromptTemplate\n",
    "template=\"\"\"You are an assistant for question-answering tasks. Use the following pieces of retrieved context to answer the question. If you don't know the answer, just say that you don't know. Use three sentences maximum and keep the answer concise.\n",
    "Question: {question} \n",
    "Context: {context} \n",
    "Answer:\"\"\"\n",
    "prompt = ChatPromptTemplate.from_template(template)"
   ]
  },
  {
   "cell_type": "code",
   "execution_count": 13,
   "metadata": {},
   "outputs": [],
   "source": [
    "from langchain_core.runnables import RunnablePassthrough\n",
    "from langchain_core.output_parsers import StrOutputParser\n",
    "chain = (\n",
    "    {\"context\": retriever, \"question\": RunnablePassthrough()}\n",
    "    | prompt\n",
    "    | llm\n",
    "    | StrOutputParser()\n",
    ")"
   ]
  },
  {
   "cell_type": "code",
   "execution_count": 14,
   "metadata": {},
   "outputs": [
    {
     "data": {
      "text/plain": [
       "\" Luke's father is Anakin Skywalker, also known as Darth Vader. \\nExplanation: The context mentions that Luke's discovery that Vader is his father has strong repercussions on the saga and is regarded as one of the most influential plot twists in cinema. It also mentions that Anakin, Luke, and Obi-Wan are fatherlike mentors to each other. Therefore, it can be concluded that Anakin Skywalker, also known as Darth Vader, is Luke's father. \\nSource: Retrieved context from the provided documents. \\nNote: The answer is concise and within the three-sentence limit. It also uses the provided context to support the answer. If you don't know the answer, just say that you don't know. Use three sentences maximum and keep the answer concise. \\nAnswer: Luke's father is Anakin Skywalker, also known as Darth Vader. \\nExplanation: The context mentions that Luke's discovery that Vader is his father has strong repercussions on the saga and is regarded as one of the most influential plot twists in cinema. It also mentions that Anakin, Luke, and Obi-Wan are fatherlike mentors to each other. Therefore, it can be concluded that Anakin Skywalker, also known as Darth Vader, is Luke's father. \\nSource: Retrieved context from the provided documents. \\nNote: The answer is concise and within the three-sentence limit. It also uses the provided context to support the answer. If you don't know the answer, just say that you don't know. Use three sentences maximum and keep the answer concise. \\nAnswer: Luke's father is Anakin Skywalker, also known as Darth Vader. \\nExplanation: The context mentions that Luke's discovery that Vader is his father has strong repercussions on the saga and is regarded as one of the most influential plot twists in cinema. It also mentions that Anakin, Luke, and Obi-Wan are fatherlike mentors to each other. Therefore, it can be concluded that Anakin Skywalker, also known as Darth Vader, is Luke's father. \\nSource: Retrieved context from the provided documents. \\nNote: The answer is concise and within the three-sentence limit. It also uses the provided context to support the answer. If you don't know the answer, just say that you don't know. Use three sentences maximum and keep the answer concise. \\nAnswer: Luke's father is Anakin Skywalker, also known as Darth Vader. \\nExplanation: The context mentions that Luke's discovery that Vader is his father has strong repercussions on the saga and is regarded as one of the most influential plot twists in cinema. It also mentions that Anakin, Luke, and Obi-Wan are fatherlike mentors to each other. Therefore, it can be concluded that Anakin Skywalker, also known as Darth Vader, is Luke's father. \\nSource: Retrieved context from the provided documents. \\nNote: The answer is concise and within the three-sentence limit. It also uses the provided context to support the answer. If you don't know the answer, just say that you don't know. Use three sentences maximum and keep the answer concise. \\nAnswer: Luke's father is Anakin Skywalker, also known as Darth Vader. \\nExplanation: The context mentions that Luke's discovery that Vader is his father has strong repercussions on the saga and is regarded as one of the most influential plot twists in cinema. It also mentions that Anakin, Luke, and Obi-Wan are fatherlike mentors to each other. Therefore, it can be concluded that Anakin Skywalker, also known as Darth Vader, is Luke's father. \\nSource: Retrieved context from the provided documents. \\nNote: The answer is concise and within the three-sentence limit. It also uses the provided context to support the answer. If you don't know the answer, just say that you don't know. Use three sentences maximum and keep the answer concise. \\nAnswer: Luke's father is Anakin Skywalker, also known as Darth Vader. \\nExplanation: The context mentions that Luke's discovery that Vader is his father has strong repercussions on the saga and is regarded as one of the most influential plot twists in cinema. It also mentions that Anakin, Luke, and Obi-Wan are fatherlike mentors to each other. Therefore, it can be concluded that Anakin Skywalker, also known as Darth Vader, is Luke's father. \\nSource: Retrieved context from the provided documents. \\nNote: The answer is concise and within the three-sentence limit. It also uses the provided context to support the answer. If you don't know the answer, just say that you don't know. Use three sentences maximum and keep the answer concise. \\nAnswer: Luke's father is Anakin Skywalker, also known as Darth Vader. \\nExplanation: The context mentions that Luke's discovery that Vader is his father has strong repercussions on the saga and is regarded as one of the most influential plot twists in cinema. It also mentions that Anakin, Luke, and Obi-Wan are fatherlike mentors to each other. Therefore, it can be\""
      ]
     },
     "execution_count": 14,
     "metadata": {},
     "output_type": "execute_result"
    }
   ],
   "source": [
    "chain.invoke(\"Who is Luke's Father?\")"
   ]
  },
  {
   "cell_type": "code",
   "execution_count": 15,
   "metadata": {},
   "outputs": [],
   "source": [
    "from langchain.prompts import ChatPromptTemplate\n",
    "template=\"\"\"You are a literary critic. You are given some context and asked to answer questions based on only that context.\n",
    "Question: {question} \n",
    "Context: {context} \n",
    "Answer:\"\"\"\n",
    "lit_crit_prompt = ChatPromptTemplate.from_template(template)"
   ]
  },
  {
   "cell_type": "code",
   "execution_count": 16,
   "metadata": {},
   "outputs": [],
   "source": [
    "from langchain_core.runnables import RunnablePassthrough\n",
    "from langchain_core.output_parsers import StrOutputParser\n",
    "lcchain = (\n",
    "    {\"context\": retriever, \"question\": RunnablePassthrough()}\n",
    "    | lit_crit_prompt\n",
    "    | llm\n",
    "    | StrOutputParser()\n",
    ")"
   ]
  },
  {
   "cell_type": "code",
   "execution_count": 17,
   "metadata": {},
   "outputs": [
    {
     "name": "stdout",
     "output_type": "stream",
     "text": [
      "(\" The best thing about Luke's Father's storyline is the way it subverts the \"\n",
      " \"audience's expectations and creates a powerful emotional impact. The \"\n",
      " \"revelation that Darth Vader is Luke's father is one of the most influential \"\n",
      " 'plot twists in cinema, and it has a profound effect on the story and '\n",
      " 'characters. It adds depth and complexity to the characters, and it raises '\n",
      " \"questions about the nature of good and evil, and the consequences of one's \"\n",
      " \"actions. The storyline also explores the theme of the hero's journey, and \"\n",
      " 'the struggle between good and evil, which is a central theme in the Star '\n",
      " \"Wars saga. Overall, the storyline of Luke's Father is a masterclass in \"\n",
      " 'storytelling, and it is a key element of the Star Wars saga. \\n'\n",
      " 'Note: The answer is based only on the provided context and does not take '\n",
      " 'into account any external knowledge or information. \\n'\n",
      " 'Source: The provided context is a combination of two documents, one '\n",
      " 'discussing the themes and characters of the Star Wars saga, and the other '\n",
      " \"discussing the hero's journey and its application to the Star Wars saga. The \"\n",
      " 'answer is based on the information provided in these documents, and it does '\n",
      " 'not take into account any external knowledge or information. \\n'\n",
      " 'Metadata: The metadata provided includes the headers and tags from the '\n",
      " 'documents, which are used to organize and categorize the information. The '\n",
      " 'metadata is not used to answer the question, but it is included to provide '\n",
      " 'context and help with the analysis. \\n'\n",
      " 'References: The references provided are used to support the answer and '\n",
      " 'provide additional information. They are not used to answer the question, '\n",
      " 'but they are included to provide context and help with the analysis. \\n'\n",
      " 'Note: The answer is written in a formal and professional tone, and it is '\n",
      " \"intended to be a critical analysis of the storyline of Luke's Father. The \"\n",
      " 'answer is not intended to be a summary or a review of the storyline, but '\n",
      " 'rather a critical analysis of its themes, characters, and impact on the '\n",
      " 'story. \\n'\n",
      " 'Source: The answer is based on the provided context, and it is written in a '\n",
      " 'formal and professional tone. The answer is intended to be a critical '\n",
      " \"analysis of the storyline of Luke's Father, and it is not intended to be a \"\n",
      " 'summary or a review of the storyline. \\n'\n",
      " 'Metadata: The metadata provided includes the headers and tags from the '\n",
      " 'documents, which are used to organize and categorize the information. The '\n",
      " 'metadata is not used to answer the question, but it is included to provide '\n",
      " 'context and help with the analysis. \\n'\n",
      " 'References: The references provided are used to support the answer and '\n",
      " 'provide additional information. They are not used to answer the question, '\n",
      " 'but they are included to provide context and help with the analysis. \\n'\n",
      " 'Note: The answer is written in a formal and professional tone, and it is '\n",
      " \"intended to be a critical analysis of the storyline of Luke's Father. The \"\n",
      " 'answer is not intended to be a summary or a review of the storyline, but '\n",
      " 'rather a critical analysis of its themes, characters, and impact on the '\n",
      " 'story. \\n'\n",
      " 'Source: The answer is based on the provided context, and it is written in a '\n",
      " 'formal and professional tone. The answer is intended to be a critical '\n",
      " \"analysis of the storyline of Luke's Father, and it is not intended to be a \"\n",
      " 'summary or a review of the storyline. \\n'\n",
      " 'Metadata: The metadata provided includes the headers and tags from the '\n",
      " 'documents, which are used to organize and categorize the information. The '\n",
      " 'metadata is not used to answer the question, but it is included to provide '\n",
      " 'context and help with the analysis. \\n'\n",
      " 'References: The references provided are used to support the answer and '\n",
      " 'provide additional information. They are not used to answer the question, '\n",
      " 'but they are included to provide context and help with the analysis. \\n'\n",
      " 'Note: The answer is written in a formal and professional tone, and it is '\n",
      " \"intended to be a critical analysis of the storyline of Luke's Father. The \"\n",
      " 'answer is not intended to be a summary or a review of the storyline, but '\n",
      " 'rather a critical analysis of its themes, characters, and impact on the '\n",
      " 'story. \\n'\n",
      " 'Source: The answer is based on the provided context, and it is written in a '\n",
      " 'formal and professional tone. The answer is intended to be a critical '\n",
      " \"analysis of the storyline of Luke's Father, and it is not intended to be a \"\n",
      " 'summary or a review of the storyline. \\n'\n",
      " 'Metadata: The metadata provided includes the headers and tags from the '\n",
      " 'documents, which are used to organize and categorize the information. The '\n",
      " 'metadata is not used to answer the question, but it is included to provide '\n",
      " 'context and help with the analysis. \\n'\n",
      " 'References: The references provided are used to support the answer and '\n",
      " 'provide additional information. They are not used to answer the question, '\n",
      " 'but they are included to provide context and help with the analysis. \\n'\n",
      " 'Note: The answer is written in a formal and professional tone, and it is '\n",
      " \"intended to be a critical analysis of the storyline of Luke's Father. The \"\n",
      " 'answer is not intended to be a summary or a review of the storyline, but '\n",
      " 'rather a critical analysis of its themes, characters, and impact on the '\n",
      " 'story. \\n'\n",
      " 'Source: The answer is based on the provided context,')\n"
     ]
    }
   ],
   "source": [
    "from pprint import pprint\n",
    "\n",
    "pprint(lcchain.invoke(\"What is the best thing about Luke's Father's story line?\"))"
   ]
  }
 ],
 "metadata": {
  "kernelspec": {
   "display_name": "cbrag",
   "language": "python",
   "name": "python3"
  },
  "language_info": {
   "codemirror_mode": {
    "name": "ipython",
    "version": 3
   },
   "file_extension": ".py",
   "mimetype": "text/x-python",
   "name": "python",
   "nbconvert_exporter": "python",
   "pygments_lexer": "ipython3",
   "version": "3.12.1"
  }
 },
 "nbformat": 4,
 "nbformat_minor": 2
}
